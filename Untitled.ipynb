{
 "cells": [
  {
   "cell_type": "markdown",
   "metadata": {},
   "source": [
    "# Task - 1"
   ]
  },
  {
   "cell_type": "markdown",
   "metadata": {},
   "source": [
    "# Install Jupyter notebook and run the first program and share the screenshot of the output."
   ]
  },
  {
   "cell_type": "code",
   "execution_count": 1,
   "metadata": {},
   "outputs": [
    {
     "name": "stdout",
     "output_type": "stream",
     "text": [
      "Hello World!!\n"
     ]
    }
   ],
   "source": [
    "print('Hello World!!')"
   ]
  },
  {
   "cell_type": "markdown",
   "metadata": {},
   "source": [
    "# Write a program which will find all such numbers which are divisible by 7 but are not a multiple of 5, between 2000 and 3200 (both included). The numbers obtained should be printed in a comma-separated sequence on a single line."
   ]
  },
  {
   "cell_type": "code",
   "execution_count": 2,
   "metadata": {},
   "outputs": [
    {
     "name": "stdout",
     "output_type": "stream",
     "text": [
      "{3073, 2562, 2051, 2569, 2058, 3087, 2576, 3094, 2583, 2072, 3101, 2079, 3108, 2597, 2086, 2604, 2093, 3122, 2611, 3129, 2618, 2107, 3136, 2114, 3143, 2632, 2121, 2639, 2128, 3157, 2646, 3164, 2653, 2142, 3171, 2149, 3178, 2667, 2156, 2674, 2163, 3192, 2681, 3199, 2688, 2177, 2184, 2702, 2191, 2709, 2198, 2716, 2723, 2212, 2219, 2737, 2226, 2744, 2233, 2751, 2758, 2247, 2254, 2772, 2261, 2779, 2268, 2786, 2793, 2282, 2289, 2807, 2296, 2814, 2303, 2821, 2828, 2317, 2324, 2842, 2331, 2849, 2338, 2856, 2863, 2352, 2359, 2877, 2366, 2884, 2373, 2891, 2898, 2387, 2394, 2912, 2401, 2919, 2408, 2926, 2933, 2422, 2429, 2947, 2436, 2954, 2443, 2961, 2968, 2457, 2464, 2982, 2471, 2989, 2478, 2996, 3003, 2492, 2499, 3017, 2506, 3024, 2513, 2002, 3031, 2009, 3038, 2527, 2016, 2534, 2023, 3052, 2541, 3059, 2548, 2037, 3066, 2044}\n"
     ]
    }
   ],
   "source": [
    "number_range = range(2000, 3200)\n",
    "result_set = set()\n",
    "for number in number_range:\n",
    "    if number % 7 == 0 and number % 5 > 0:\n",
    "        result_set.add(number)\n",
    "print(result_set)"
   ]
  },
  {
   "cell_type": "markdown",
   "metadata": {},
   "source": [
    "# Write a Python program to accept the user's first and last name and then getting them printed in the the reverse order with a space between first name and last name.\n"
   ]
  },
  {
   "cell_type": "code",
   "execution_count": 3,
   "metadata": {},
   "outputs": [
    {
     "name": "stdout",
     "output_type": "stream",
     "text": [
      "Enter First name : \n",
      "vignesh\n",
      "\n",
      "\n",
      "Enter Second name :\n",
      "subramanian\n",
      "hsengiv nainamarbus\n"
     ]
    }
   ],
   "source": [
    "print('Enter First name : ')\n",
    "first_name = input()\n",
    "print('\\n')\n",
    "print('Enter Second name :')\n",
    "last_name = input()\n",
    "\n",
    "result_name_reverse = ''.join(reversed(first_name)) + ' ' + ''.join(reversed(last_name))\n",
    "print(result_name_reverse)"
   ]
  },
  {
   "cell_type": "markdown",
   "metadata": {},
   "source": [
    "# Write a Python program to find the volume of a sphere with diameter 12 cm."
   ]
  },
  {
   "cell_type": "code",
   "execution_count": 4,
   "metadata": {},
   "outputs": [
    {
     "name": "stdout",
     "output_type": "stream",
     "text": [
      "The Volume of the sphere is : 904.7786842338603\n"
     ]
    }
   ],
   "source": [
    "import math\n",
    "diameter_of_sphere = 12\n",
    "radius_of_sphere = diameter_of_sphere / 2\n",
    "volume = ( 4 / 3 ) * math.pi * math.pow(radius_of_sphere, 3)\n",
    "print('The Volume of the sphere is : ' + str(volume) )"
   ]
  },
  {
   "cell_type": "markdown",
   "metadata": {},
   "source": [
    "# Task - 2"
   ]
  },
  {
   "cell_type": "markdown",
   "metadata": {},
   "source": [
    "# Write a program which accepts a sequence of comma-separated numbers from console and generate a list."
   ]
  },
  {
   "cell_type": "code",
   "execution_count": 5,
   "metadata": {},
   "outputs": [
    {
     "name": "stdout",
     "output_type": "stream",
     "text": [
      "Enter sequence of comma-separated numbers :\n",
      "1,2,3,4,5\n",
      "['1', '2', '3', '4', '5']\n"
     ]
    }
   ],
   "source": [
    "print('Enter sequence of comma-separated numbers :')\n",
    "input_sequence = input()\n",
    "print(input_sequence.split(','))"
   ]
  },
  {
   "cell_type": "markdown",
   "metadata": {},
   "source": [
    "# Create the below pattern using nested for loop in Python."
   ]
  },
  {
   "cell_type": "code",
   "execution_count": 6,
   "metadata": {},
   "outputs": [
    {
     "name": "stdout",
     "output_type": "stream",
     "text": [
      "\n",
      "* \n",
      "* * \n",
      "* * * \n",
      "* * * * \n",
      "* * * * * \n",
      "* * * * \n",
      "* * * \n",
      "* * \n",
      "* \n"
     ]
    }
   ],
   "source": [
    "for i in range(10):\n",
    "    j = i\n",
    "    if i > 5:\n",
    "        j = 10 - i\n",
    "    for x in range(j):\n",
    "        print('*', end =' '),\n",
    "    print(end='\\n')\n",
    "    "
   ]
  },
  {
   "cell_type": "markdown",
   "metadata": {},
   "source": [
    "# Reverse a word after accepting the input from the user"
   ]
  },
  {
   "cell_type": "code",
   "execution_count": 7,
   "metadata": {},
   "outputs": [
    {
     "name": "stdout",
     "output_type": "stream",
     "text": [
      "Enter any word: \n",
      "AcadGild\n",
      "dliGdacA\n"
     ]
    }
   ],
   "source": [
    "print('Enter any word: ')\n",
    "word = input()\n",
    "print(''.join(reversed(word)))"
   ]
  },
  {
   "cell_type": "markdown",
   "metadata": {},
   "source": [
    "# Print the given string in the format specified"
   ]
  },
  {
   "cell_type": "code",
   "execution_count": 9,
   "metadata": {},
   "outputs": [
    {
     "name": "stdout",
     "output_type": "stream",
     "text": [
      "  WE, THE PEOPLE OF INDIA,\n",
      "\n",
      "      having solemnly resolved to constitute India into a SOVEREIGN,\n",
      "\n",
      "          SOCIALIST, SECULAR, DEMOCRATIC REPUBLIC and to secure to all\n",
      "            its citizens\n"
     ]
    }
   ],
   "source": [
    "import textwrap\n",
    "prefix = \" \"\n",
    "preferredWidth = 70\n",
    "wrapper = textwrap.TextWrapper(initial_indent=\"\", width=preferredWidth)\n",
    "message = \"\"\"WE, THE PEOPLE OF INDIA,\\n \n",
    "having solemnly resolved to constitute India into a SOVEREIGN,\\n \n",
    "SOCIALIST, SECULAR, DEMOCRATIC REPUBLIC and to secure to all\n",
    "its citizens\"\"\"\n",
    "\n",
    "paragraph = message.splitlines()\n",
    "count = 0\n",
    "for line in paragraph:\n",
    "    count += 1\n",
    "    wrapper.initial_indent = \" \"*count*2\n",
    "    print(wrapper.fill(line))\n"
   ]
  },
  {
   "cell_type": "code",
   "execution_count": null,
   "metadata": {},
   "outputs": [],
   "source": []
  },
  {
   "cell_type": "code",
   "execution_count": null,
   "metadata": {},
   "outputs": [],
   "source": []
  }
 ],
 "metadata": {
  "kernelspec": {
   "display_name": "Python 3",
   "language": "python",
   "name": "python3"
  },
  "language_info": {
   "codemirror_mode": {
    "name": "ipython",
    "version": 3
   },
   "file_extension": ".py",
   "mimetype": "text/x-python",
   "name": "python",
   "nbconvert_exporter": "python",
   "pygments_lexer": "ipython3",
   "version": "3.7.4"
  }
 },
 "nbformat": 4,
 "nbformat_minor": 2
}
