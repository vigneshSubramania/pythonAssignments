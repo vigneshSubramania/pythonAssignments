{
 "cells": [
  {
   "cell_type": "markdown",
   "metadata": {},
   "source": [
    "# myreduce() function which works like Python's built-in function reduce()"
   ]
  },
  {
   "cell_type": "code",
   "execution_count": 21,
   "metadata": {},
   "outputs": [
    {
     "name": "stdout",
     "output_type": "stream",
     "text": [
      "Maximum Element is:  110\n",
      "The Sum of the elements is:  126\n",
      "The result of Subtraction of the elements is:  94\n",
      "The result of Division of the elements is:  2.2\n",
      "The result of multiplication of the elements is:  5500\n",
      "The concatenation of the elements is:  iCodePython\n"
     ]
    }
   ],
   "source": [
    "def myreduce(function, iterable, initializer=None):\n",
    "    it = iter(iterable)\n",
    "    if initializer is None:\n",
    "        value = next(it)\n",
    "    else:\n",
    "        value = initializer\n",
    "    for element in it:\n",
    "        value = function(value, element)\n",
    "    return value\n",
    "\n",
    "#Initialize the list\n",
    "list = [110, 10, 5, 1]\n",
    "\n",
    "#Compute maximum element from the list\n",
    "print(\"Maximum Element is: \", myreduce(lambda a,b : a if a>b else b, list))\n",
    "\n",
    "#Compute Sum of the list\n",
    "print(\"The Sum of the elements is: \", myreduce(lambda a,b : a+b, list))\n",
    "\n",
    "#Compute subtraction of subsequent elements\n",
    "print(\"The result of Subtraction of the elements is: \",myreduce(lambda a,b : a-b, list))\n",
    "\n",
    "#Compute division of subsequent elements\n",
    "print(\"The result of Division of the elements is: \",myreduce(lambda a,b : a/b, list))\n",
    "\n",
    "#Multiplication of elements\n",
    "print(\"The result of multiplication of the elements is: \",myreduce(lambda a,b: a*b, list))\n",
    "\n",
    "#Concatenation of elements\n",
    "print(\"The concatenation of the elements is: \",myreduce(lambda a,b: a+b, [\"i\", \"Code\", \"Python\"]))"
   ]
  },
  {
   "cell_type": "markdown",
   "metadata": {},
   "source": [
    "#  myfilter() function which works like Python's built-in function filter()"
   ]
  },
  {
   "cell_type": "code",
   "execution_count": 16,
   "metadata": {},
   "outputs": [
    {
     "name": "stdout",
     "output_type": "stream",
     "text": [
      "Odd numbers are:  [1, 3, 5, 7, 9]\n",
      "Even numbers are:  [0, 2, 4, 6, 8]\n",
      "Vowels in the list are:  ['e']\n"
     ]
    }
   ],
   "source": [
    "def myfilter(function, iterable):\n",
    "    list = []\n",
    "    for item in iterable:\n",
    "        if function(item):\n",
    "            list.append(item)\n",
    "    return list\n",
    "\n",
    "list = [0,1,2,3,4,5,6,7,8,9]\n",
    "\n",
    "\n",
    "# get numbers from the list provided\n",
    "print(\"Odd numbers are: \", myfilter(lambda x: x % 2, list) )\n",
    "\n",
    "# get even numbers from the list provided\n",
    "print(\"Even numbers are: \", myfilter(lambda x: x % 2==0, list) )\n",
    "\n",
    "#Filter vowels from the list\n",
    "list = ['q', 'w', 'e', 'r', 't', 'y']\n",
    "print(\"Vowels in the list are: \", myfilter(lambda x: True if x in ['a', 'e', 'i', 'o', 'u', 'A', 'E', 'I', 'O', 'U'] else None, list ))"
   ]
  },
  {
   "cell_type": "markdown",
   "metadata": {},
   "source": [
    "# List Comprehensions"
   ]
  },
  {
   "cell_type": "code",
   "execution_count": 19,
   "metadata": {},
   "outputs": [
    {
     "name": "stdout",
     "output_type": "stream",
     "text": [
      "['A', 'C', 'A', 'D', 'G', 'I', 'L', 'D']\n",
      "['x', 'xx', 'xxx', 'xxxx', 'y', 'yy', 'yyy', 'yyyy', 'z', 'zz', 'zzz', 'zzzz']\n",
      "['x', 'y', 'z', 'xx', 'yy', 'zz', 'xx', 'yy', 'zz', 'xxxx', 'yyyy', 'zzzz']\n",
      "[[2], [3], [4], [3], [4], [5], [4], [5], [6]]\n",
      "[[2, 3, 4, 5], [3, 4, 5, 6], [4, 5, 6, 7], [5, 6, 7, 8]]\n",
      "[(1, 1), (2, 1), (3, 1), (1, 2), (2, 2), (3, 2), (1, 3), (2, 3), (3, 3)]\n"
     ]
    }
   ],
   "source": [
    "result = []\n",
    "result = [chr(x) for x in [65, 67, 65, 68, 71, 73, 76, 68] ]\n",
    "print(str(result))\n",
    "\n",
    "result = []\n",
    "result = [ i*j for i in ['x','y','z'] for j in range(1,5) ]\n",
    "print(result)\n",
    "\n",
    "result = []\n",
    "list1 = ['x','y','z','xx','yy','zz']\n",
    "list2 = [(lambda x: x*2)(x) for x in list1 ]\n",
    "result = list1 + list2\n",
    "print(result)\n",
    "\n",
    "result = []\n",
    "list1 = [[2],[3],[4]]\n",
    "list2 = [[3],[4],[5]]\n",
    "list3 = [[4],[5],[6]]\n",
    "result = list1 + list2 + list3\n",
    "print(result)\n",
    "\n",
    "result = []\n",
    "list1 = [2,3,4,5]\n",
    "list2 = [3,4,5,6]\n",
    "list3 = [4,5,6,7]\n",
    "list4 = [5,6,7,8]\n",
    "result = [list1,list2,list3,list4]\n",
    "print(result)\n",
    "\n",
    "result = []\n",
    "list1 = [(1,1),(2,1),(3,1)]\n",
    "list2 = [(1,2),(2,2),(3,2)]\n",
    "list3 = [(1,3),(2,3),(3,3)]\n",
    "result = list1 + list2 + list3\n",
    "print(result)"
   ]
  },
  {
   "cell_type": "markdown",
   "metadata": {},
   "source": [
    "# Area of the Triangle using OOPS"
   ]
  },
  {
   "cell_type": "code",
   "execution_count": 2,
   "metadata": {},
   "outputs": [
    {
     "data": {
      "text/plain": [
       "9.921567416492215"
      ]
     },
     "execution_count": 2,
     "metadata": {},
     "output_type": "execute_result"
    }
   ],
   "source": [
    "class Triangle:\n",
    "    def __init__(self, semiperimeter, side1, side2, side3):\n",
    "        self.s = semiperimeter\n",
    "        self.a = side1\n",
    "        self.b = side2\n",
    "        self.c = side3\n",
    "        \n",
    "class AreaOfTriangle(Triangle):\n",
    "    def GetAreaOfTriangle(self):\n",
    "        s = self.s\n",
    "        a = self.a\n",
    "        b = self.b\n",
    "        c = self.c\n",
    "        area =  (s*(s-a)*(s-b)*(s-c)) ** 0.5\n",
    "        return area\n",
    "\n",
    "TriangleObject = AreaOfTriangle(7.5,4,5,6)\n",
    "TriangleObject.GetAreaOfTriangle()"
   ]
  },
  {
   "cell_type": "markdown",
   "metadata": {},
   "source": [
    "# Return longest word in a list"
   ]
  },
  {
   "cell_type": "code",
   "execution_count": 23,
   "metadata": {},
   "outputs": [
    {
     "name": "stdout",
     "output_type": "stream",
     "text": [
      "Python\n"
     ]
    }
   ],
   "source": [
    "def getLongestWord(listOfWords):\n",
    "    length = 0\n",
    "    for word in listOfWords:\n",
    "        if len(word) > length:\n",
    "            length = len(word)\n",
    "            longestWord = word\n",
    "    return longestWord\n",
    "\n",
    "print(getLongestWord(['I', 'like', 'to', 'code', 'Python']))\n",
    "            \n",
    "        \n"
   ]
  },
  {
   "cell_type": "markdown",
   "metadata": {},
   "source": [
    "# Map list of words into a list of integers"
   ]
  },
  {
   "cell_type": "code",
   "execution_count": 5,
   "metadata": {},
   "outputs": [
    {
     "data": {
      "text/plain": [
       "[2, 3, 4]"
      ]
     },
     "execution_count": 5,
     "metadata": {},
     "output_type": "execute_result"
    }
   ],
   "source": [
    "ListOfWords = ['ab','cde','erty']\n",
    "list(map(lambda x : len(x), ListOfWords))"
   ]
  },
  {
   "cell_type": "markdown",
   "metadata": {},
   "source": [
    "# Function returns True if it is a vowel, False otherwise"
   ]
  },
  {
   "cell_type": "code",
   "execution_count": 5,
   "metadata": {},
   "outputs": [
    {
     "name": "stdout",
     "output_type": "stream",
     "text": [
      "[True, False, False]\n",
      "True\n",
      "False\n"
     ]
    }
   ],
   "source": [
    "lst = ['a', 'b', 'c']\n",
    "print(list(map(lambda x: True if x in ['a', 'e', 'i', 'o', 'u'] else False, lst)))\n",
    "\n",
    "def CheckVowels(letter):\n",
    "    if letter in ['a', 'e', 'i', 'o', 'u']:\n",
    "        return True\n",
    "    else:\n",
    "        return False\n",
    "\n",
    "print(CheckVowels('a'))\n",
    "print(CheckVowels('d'))"
   ]
  },
  {
   "cell_type": "code",
   "execution_count": null,
   "metadata": {},
   "outputs": [],
   "source": []
  }
 ],
 "metadata": {
  "kernelspec": {
   "display_name": "Python 3",
   "language": "python",
   "name": "python3"
  },
  "language_info": {
   "codemirror_mode": {
    "name": "ipython",
    "version": 3
   },
   "file_extension": ".py",
   "mimetype": "text/x-python",
   "name": "python",
   "nbconvert_exporter": "python",
   "pygments_lexer": "ipython3",
   "version": "3.7.4"
  }
 },
 "nbformat": 4,
 "nbformat_minor": 2
}
