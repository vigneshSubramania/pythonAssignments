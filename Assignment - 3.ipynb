{
 "cells": [
  {
   "cell_type": "markdown",
   "metadata": {},
   "source": [
    "# Function to compute 5/0 and use try/except to catch the exceptions"
   ]
  },
  {
   "cell_type": "code",
   "execution_count": 3,
   "metadata": {},
   "outputs": [
    {
     "name": "stdout",
     "output_type": "stream",
     "text": [
      "Error :  division by zero\n"
     ]
    }
   ],
   "source": [
    "def ZeroDivide( ):\n",
    "    try:\n",
    "        result = 5/0\n",
    "    except Exception as e:\n",
    "        print(\"Error : \", e)\n",
    "\n",
    "ZeroDivide()"
   ]
  },
  {
   "cell_type": "markdown",
   "metadata": {},
   "source": [
    "# Python program to generate all sentences from lists"
   ]
  },
  {
   "cell_type": "code",
   "execution_count": 3,
   "metadata": {},
   "outputs": [
    {
     "name": "stdout",
     "output_type": "stream",
     "text": [
      "Americans play Baseball.\n",
      "Americans play Cricket.\n",
      "Americans watch Baseball.\n",
      "Americans watch Cricket.\n",
      "Indians play Baseball.\n",
      "Indians play Cricket.\n",
      "Indians watch Baseball.\n",
      "Indians watch Cricket.\n"
     ]
    }
   ],
   "source": [
    "subjects=[\"Americans\",\"Indians\"]\n",
    "verbs=[\"play\",\"watch\"]\n",
    "objects=[\"Baseball\",\"Cricket\"]\n",
    "\n",
    "for subject in subjects:\n",
    "    for verb in verbs:\n",
    "        for object in objects:\n",
    "            print(subject + \" \" + verb + \" \" + object + \".\")"
   ]
  },
  {
   "cell_type": "markdown",
   "metadata": {},
   "source": [
    "# Vandermonde Matrix"
   ]
  },
  {
   "cell_type": "code",
   "execution_count": 1,
   "metadata": {},
   "outputs": [
    {
     "name": "stdout",
     "output_type": "stream",
     "text": [
      "The input array is: [1 2 3 4 5] \n",
      "\n",
      "Number of columns in output matrix should be: 3 \n",
      "\n",
      "Vander matrix of the input array in decreasing order of powers:\n",
      "\n",
      " [[ 1  1  1]\n",
      " [ 4  2  1]\n",
      " [ 9  3  1]\n",
      " [16  4  1]\n",
      " [25  5  1]] \n",
      "\n",
      "Vander matrix of the input array in increasing order of powers:\n",
      "\n",
      " [[ 1  1  1]\n",
      " [ 1  2  4]\n",
      " [ 1  3  9]\n",
      " [ 1  4 16]\n",
      " [ 1  5 25]] \n",
      "\n"
     ]
    }
   ],
   "source": [
    "import numpy as np\n",
    "\n",
    "def generate_vandermonde_matrix(input_vector,number_of_columns,increasing_order=False):\n",
    "    n = number_of_columns\n",
    "    if not increasing_order:\n",
    "        output_matrix = np.array([x**(n-1-i) for x in input_vector for i in range(n)]).reshape(input_vector.size, n)\n",
    "    elif increasing_order:\n",
    "        output_matrix = np.array([x**i for x in input_vector for i in range(n)]).reshape(input_vector.size, n)\n",
    "    \n",
    "    return output_matrix\n",
    "\n",
    "input_vector = np.array([1,2,3,4,5])\n",
    "number_of_columns = 3\n",
    "\n",
    "\n",
    "print(\"The input array is:\",input_vector,\"\\n\")\n",
    "print(\"Number of columns in output matrix should be:\",number_of_columns,\"\\n\")\n",
    "\n",
    "output_matrix = generate_vandermonde_matrix(input_vector,number_of_columns,False)\n",
    "print(\"Vander matrix of the input array in decreasing order of powers:\\n\\n\",output_matrix,\"\\n\")\n",
    "\n",
    "output_matrix = generate_vandermonde_matrix(input_vector,number_of_columns,True)\n",
    "print(\"Vander matrix of the input array in increasing order of powers:\\n\\n\",output_matrix,\"\\n\")"
   ]
  },
  {
   "cell_type": "code",
   "execution_count": null,
   "metadata": {},
   "outputs": [],
   "source": []
  }
 ],
 "metadata": {
  "kernelspec": {
   "display_name": "Python 3",
   "language": "python",
   "name": "python3"
  },
  "language_info": {
   "codemirror_mode": {
    "name": "ipython",
    "version": 3
   },
   "file_extension": ".py",
   "mimetype": "text/x-python",
   "name": "python",
   "nbconvert_exporter": "python",
   "pygments_lexer": "ipython3",
   "version": "3.7.4"
  }
 },
 "nbformat": 4,
 "nbformat_minor": 2
}
